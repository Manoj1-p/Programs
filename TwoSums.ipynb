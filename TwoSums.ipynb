{
 "cells": [
  {
   "cell_type": "markdown",
   "metadata": {},
   "source": [
    "# Given an array of integers 'nums' and an integer 'target', return indices of the two numbers such that they add up to 'target'.\n",
    "# You may assume that each input would have exactly one solution, and you may not use the same element twice.\n",
    "\n",
    "# Input: nums = [2,7,11,15], target = 9\n",
    "\n",
    "# Output: [0,1]\n",
    "\n",
    "# Explanation: Because nums[0] + nums[1] == 9, we return [0,1]"
   ]
  },
  {
   "cell_type": "code",
   "execution_count": null,
   "metadata": {},
   "outputs": [],
   "source": [
    "#Non parameterized function\n",
    "\n",
    "def twosums():\n",
    "    L = []\n",
    "    for i in range(len(nums)):\n",
    "        for j in range(i+1,len(nums)):\n",
    "            if nums[j] == target - nums[i]:\n",
    "                L.append(i)\n",
    "                L.append(j)\n",
    "                return(L)\n",
    "n = int(input(\"enter numbers to array/list:\"))\n",
    "nums =[]\n",
    "for i in range(n):\n",
    "    l = int(input())\n",
    "    nums.append(l)\n",
    "target = int(input(\"enter a number for checking the above question\"))\n",
    "print(twosums())"
   ]
  }
 ],
 "metadata": {
  "kernelspec": {
   "display_name": "Python 3",
   "language": "python",
   "name": "python3"
  },
  "language_info": {
   "codemirror_mode": {
    "name": "ipython",
    "version": 3
   },
   "file_extension": ".py",
   "mimetype": "text/x-python",
   "name": "python",
   "nbconvert_exporter": "python",
   "pygments_lexer": "ipython3",
   "version": "3.8.3"
  }
 },
 "nbformat": 4,
 "nbformat_minor": 4
}
